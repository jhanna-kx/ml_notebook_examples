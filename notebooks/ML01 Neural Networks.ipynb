{
 "cells": [
  {
   "cell_type": "markdown",
   "metadata": {},
   "source": [
    "# Machine Learning Demonstrations - 1\n",
    "\n",
    "To run this notebook, you need to install python dependencies:\n",
    "\n",
    "Install tensorflow:\n",
    "\n",
    "With conda:\n",
    "\n",
    "```conda install -c anaconda tensorflow-gpu```\n",
    "\n",
    "With pip:\n",
    "\n",
    "```pip install tensorflow-gpu```\n",
    "\n",
    "Other dependencies:\n",
    "\n",
    "With pip:\n",
    "\n",
    "```pip install Keras==2.0.9\n",
    "pip install scikit_learn==0.19.1```\n",
    "\n",
    "## Classification using Neural Networks\n",
    "\n",
    "Neural Networks are machine learning models based (loosely) on biological neural networks in the brain. Data is passed through a series of layers of *artificial neurons* , giving increasingly useful representations. Since the number of  layers can be quite large, this type of machine learning is often called *deep learning*.\n",
    "\n",
    "Neural networks can\n",
    "- Work on data with little-or-no feature engineering applied\n",
    "- Be applied to *perceptive* problems (such as computer vision and voice recognition)\n",
    "\n",
    "We will implement and manipulate Neural Networks using **Keras**, a high-level API that runs on top of a number of common deep learning frameworks, including TensorFlow, Theano and CNTK.\n",
    "\n",
    "Further discussion of Neural Networks can be found on the [Wikipedia article](https://en.wikipedia.org/wiki/Artificial_neural_network). More information about the Keras framework can be found on the [Keras website](https://keras.io/)."
   ]
  },
  {
   "cell_type": "markdown",
   "metadata": {},
   "source": [
    "## MNIST (handwritten digits) database\n",
    "\n",
    "The Modified National Institute of Standards and Technology (MNIST) database, is a large collection of handwritten digits.\n",
    "\n",
    "MNIST is commonly used for training and testing image processing systems, particularly in the field of machine learning."
   ]
  },
  {
   "cell_type": "markdown",
   "metadata": {},
   "source": [
    "<img src=\"../images/mnist.png\" />"
   ]
  },
  {
   "cell_type": "markdown",
   "metadata": {},
   "source": [
    "### Load data"
   ]
  },
  {
   "cell_type": "code",
   "execution_count": null,
   "metadata": {
    "collapsed": true
   },
   "outputs": [],
   "source": [
    "/ Utility functions\n",
    "\\l ../utils/funcs.q\n",
    "\\l ../utils/graphics.q"
   ]
  },
  {
   "cell_type": "code",
   "execution_count": null,
   "metadata": {},
   "outputs": [],
   "source": [
    "mnist:.p.import[`keras.datasets.mnist][`:load_data;<][]\n",
    "data:raze(`xtrain`ytrain;`xtest`ytest)!'mnist\n",
    "@[`data;`ytrain`ytest;\"f\"$];\n",
    "/ Inspect data\n",
    "-1 string[count data`xtrain],\" samples of shape \",sv[\" x \"]string 1_shape data`xtrain;\n",
    "-1\"\";show 5#data`xtrain;-1\"\";\n",
    "-1\"Distribution of target values is:\\n\";\n",
    "show update pcnt:round[;.01]100*num%sum num from select num:count i by target from([]target:data`ytrain);\n",
    "-1\"\\nTraining/test split is:\\n\";\n",
    "show count each data;"
   ]
  },
  {
   "cell_type": "markdown",
   "metadata": {},
   "source": [
    "### Inspect a random digit"
   ]
  },
  {
   "cell_type": "code",
   "execution_count": null,
   "metadata": {},
   "outputs": [],
   "source": [
    "\\c 2000 2000\n",
    "j:rand count data`xtest; / pick a number\n",
    "-1\"Inpecting data point \",string j;-1\"\";\n",
    "show data[`xtest]j;-1\"\";\n",
    "-1\"Length: \",string count data[`xtest]j;\n",
    "\\c 16 80"
   ]
  },
  {
   "cell_type": "code",
   "execution_count": null,
   "metadata": {},
   "outputs": [],
   "source": [
    "@[`data;`xtrain`xtest;%;255];\n",
    "/ Display using matplotlib\n",
    "plt[`:imshow]\"f\"$data[`xtest]j;\n",
    "plt[`:show][];"
   ]
  },
  {
   "cell_type": "markdown",
   "metadata": {},
   "source": [
    "### Inspect a random sample"
   ]
  },
  {
   "cell_type": "code",
   "execution_count": null,
   "metadata": {},
   "outputs": [],
   "source": [
    "subplots:plt[`:subplots][5;5]\n",
    "fig:subplots[@;0]\n",
    "axarr:subplots[@;1]\n",
    "fig[`:set_size_inches;18.5;10.5];\n",
    "\n",
    "{ i:rand count data`xtest;\n",
    "  //box:axarr[@;x 0][@;x 1];\n",
    "  //box:axarr[@;tuple x];\n",
    "  box:axarr[`$\":__getitem__\"].p.eval\",\"sv string x;\n",
    "  box[`:imshow]\"f\"$data[`xtest]i;\n",
    "  box[`:axis]`off;\n",
    "  box[`:set_title]\"Label is \",string data[`ytest]i;\n",
    " }each cross[til 5;til 5];\n",
    "\n",
    "plt[`:show][];"
   ]
  },
  {
   "cell_type": "markdown",
   "metadata": {},
   "source": [
    "### Build model"
   ]
  },
  {
   "cell_type": "code",
   "execution_count": null,
   "metadata": {
    "collapsed": true
   },
   "outputs": [],
   "source": [
    "/ Prepare data for NN model\n",
    "@[`data;`xtrain`xtest;{nparray[(raze/)x][`:reshape]count[x],28*28}];\n",
    "@[`data;`ytrain`ytest;{nparray onehot x}];"
   ]
  },
  {
   "cell_type": "code",
   "execution_count": null,
   "metadata": {
    "collapsed": true
   },
   "outputs": [],
   "source": [
    "/ Layer used in model\n",
    "dense:.p.import[`keras.layers]`:Dense;"
   ]
  },
  {
   "cell_type": "code",
   "execution_count": null,
   "metadata": {
    "scrolled": true
   },
   "outputs": [],
   "source": [
    "/ Build the model\n",
    "model:.p.import[`keras.models;`:Sequential][];\n",
    "model[`:add][dense[512;`activation pykw`relu;`input_shape pykw enlist 28*28]];\n",
    "model[`:add]dense[10;`activation pykw`softmax];\n",
    "model[`:compile][`loss pykw`categorical_crossentropy;`optimizer pykw`rmsprop;`metrics pykw pylist enlist`accuracy];\n",
    "model[`:summary][];"
   ]
  },
  {
   "cell_type": "markdown",
   "metadata": {},
   "source": [
    "### Fit model"
   ]
  },
  {
   "cell_type": "code",
   "execution_count": null,
   "metadata": {},
   "outputs": [],
   "source": [
    "epochs:20\n",
    "batchsz:128\n",
    "start:.z.T\n",
    "cresults:model[`:fit][data`xtrain;data`ytrain;`batch_size pykw batchsz;`verbose pykw 2;`epochs pykw epochs]\n",
    "-1\"Training continuous model for \",string[epochs],\" epochs took \",string .z.T-start;"
   ]
  },
  {
   "cell_type": "markdown",
   "metadata": {},
   "source": [
    "### Predicting"
   ]
  },
  {
   "cell_type": "code",
   "execution_count": null,
   "metadata": {},
   "outputs": [],
   "source": [
    "preds:first each idesc each model[`:predict][data`xtest]`;\n",
    "class:first each where each 1=data[`ytest]`;\n",
    "show res:update Hit:Class=Prediction from([]Class:class;Prediction:preds)"
   ]
  },
  {
   "cell_type": "markdown",
   "metadata": {},
   "source": [
    "### Analysing accuracy"
   ]
  },
  {
   "cell_type": "code",
   "execution_count": null,
   "metadata": {},
   "outputs": [],
   "source": [
    "tot:select avg Hit by`$string Class from res;\n",
    "show update Miss:1-Hit from tot upsert update Class:`TOTAL from select avg Hit from res;"
   ]
  },
  {
   "cell_type": "code",
   "execution_count": null,
   "metadata": {},
   "outputs": [],
   "source": [
    "ctab:update pcnt:100*num%sum num by Class from select num:count i by Class,Prediction from res\n",
    "ctab:0^(asc flip`Class`Prediction!flip cross[exec distinct Class from ctab;exec distinct Prediction from ctab])#ctab\n",
    "ctab:0!update p:{`$\"Pred_\",string x}each Prediction from ctab\n",
    "show cpivot:exec(p!num)by Class:Class from ctab"
   ]
  },
  {
   "cell_type": "markdown",
   "metadata": {},
   "source": [
    "### Visualising Accuracy (3D plot)"
   ]
  },
  {
   "cell_type": "code",
   "execution_count": null,
   "metadata": {},
   "outputs": [],
   "source": [
    "// Import matplotlib and library that allows 3D plots\n",
    ".p.import[`mpl_toolkits.mplot3d]`:Axes3D;\n",
    "\n",
    "// Initialize plot\n",
    "fig:plt[`:figure][`figsize pykw 10 7];\n",
    "ax:fig[`:add_subplot][111;`projection pykw\"3d\"];\n",
    "\n",
    "// Definition of 3D barplots\n",
    "n:count ctab;\n",
    "ax[`:bar3d][ctab.Class;ctab.Prediction;n#0;n#0.5;n#0.5;ctab.num;`color pykw \"lightgreen\"];\n",
    "ax[`:set_xlabel][\"Actual labels\"];\n",
    "ax[`:set_ylabel][\"Prediction\"];\n",
    "ax[`:set_zlabel][\"Count\"];\n",
    "plt[`:show][];"
   ]
  },
  {
   "cell_type": "markdown",
   "metadata": {},
   "source": [
    "### Visualising Accuracy (Heatmap)"
   ]
  },
  {
   "cell_type": "code",
   "execution_count": null,
   "metadata": {},
   "outputs": [],
   "source": [
    "Norm_conf:flip value flip value exec(p!pcnt)by Class from ctab\n",
    "fig:plt[`:figure][`figsize pykw 9 7];\n",
    "ax:fig[`:add_subplot][111];\n",
    "ax[`:set_aspect][1];\n",
    "\n",
    "orig_cmap:plt[`:get_cmap][];\n",
    "plt[`:set_cmap]\"jet\";\n",
    "resIm:ax[`:imshow][Norm_conf;`interpolation pykw`nearest];\n",
    "ax[`:imshow][Norm_conf;`interpolation pykw`nearest];\n",
    "ax[`:annotate][;;`horizontalalignment pykw`center; `verticalalignment pykw`center]'[string ctab`num;flip ctab`Prediction`Class];\n",
    "\n",
    "// Customize plot\n",
    "fig[`:colorbar]resIm;\n",
    "plt[`:xticks]til 10;\n",
    "plt[`:yticks]til 10;\n",
    "plt[`:show][];\n",
    "plt[`:set_cmap]orig_cmap;"
   ]
  },
  {
   "cell_type": "markdown",
   "metadata": {},
   "source": [
    "### Where are mistakes made?"
   ]
  },
  {
   "cell_type": "code",
   "execution_count": null,
   "metadata": {},
   "outputs": [],
   "source": [
    "ind:til count cmat:flip value flip value cpivot\n",
    "mclass:(corr;(sum each cmat)-corr;(sum each flip cmat)-corr:cmat ./:2#'til count cmat)\n",
    "width:0.3\n",
    "// We initialize the plot\n",
    "ax:plt[`:subplots][`figsize pykw 10 8][@;1]\n",
    "// Adding the bars related to the correct classifications (in green)\n",
    "ax[`:bar][ind;mclass 0;width;`color pykw\"g\";`label pykw\"Correctly classified\"];\n",
    "ax[`:bar][ind+width;mclass 1;width;`color pykw\"r\";`label pykw\"This misclassified as others\"];\n",
    "ax[`:bar][ind-width;mclass 2;width;`color pykw\"b\";`label pykw\"Others misclassified as this\"];\n",
    "\n",
    "ax[`:set_ylabel]\"Count\";\n",
    "ax[`:set_title]\"NN results\";\n",
    "ax[`:set_xticks]ind;\n",
    "ax[`:set_xticklabels]ind;\n",
    "ax[`:legend][`loc pykw\"center left\";`shadow pykw 1b;`bbox_to_anchor pykw(1,0.5);`fontsize pykw 15];\n",
    "plt[`:show][];"
   ]
  },
  {
   "cell_type": "markdown",
   "metadata": {},
   "source": [
    "### Check mistakes"
   ]
  },
  {
   "cell_type": "code",
   "execution_count": null,
   "metadata": {},
   "outputs": [],
   "source": [
    "mistakes:16?exec i from res where not Hit\n",
    "\n",
    "subplots:plt[`:subplots][4;4]\n",
    "fig:subplots[@;0]\n",
    "axarr:subplots[@;1]\n",
    "fig[`:set_size_inches][18.5;10.5];\n",
    "\n",
    "{[x;i]\n",
    "  box:axarr[`$\":__getitem__\"].p.eval\",\"sv string x;\n",
    "  box[`:imshow]28 28#255*data[`xtest][`]i;\n",
    "  box[`:axis]`off;\n",
    "  box[`:set_title][\"Prediction is \",string res[i;`Prediction]];\n",
    " }'[cross[til 4;til 4];mistakes];\n",
    "\n",
    "plt[`:show][];"
   ]
  },
  {
   "cell_type": "code",
   "execution_count": null,
   "metadata": {
    "collapsed": true
   },
   "outputs": [],
   "source": []
  }
 ],
 "metadata": {
  "kernelspec": {
   "display_name": "Q 3.5",
   "language": "q",
   "name": "qpk"
  },
  "language_info": {
   "file_extension": ".q",
   "mimetype": "text/x-q",
   "name": "q",
   "version": "3.5.0"
  }
 },
 "nbformat": 4,
 "nbformat_minor": 2
}
