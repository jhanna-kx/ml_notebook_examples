{
 "cells": [
  {
   "cell_type": "markdown",
   "metadata": {},
   "source": [
    "# Machine Learning Demonstrations - 5\n",
    "\n",
    "To run these notebooks, you need to install python dependencies:\n",
    "\n",
    "With pip:\n",
    "\n",
    "```pip install numpy==1.14.0\n",
    "pip install scipy==1.0.0\n",
    "pip install graphviz==0.5.2\n",
    "pip install matplotlib==2.0.2\n",
    "pip install scikit_learn==0.19.1\n",
    "pip install xgboost==0.7.post3```\n",
    "\n",
    "\n",
    "Graphviz requires to be installed using *conda* also\n",
    "\n",
    "With conda:\n",
    "\n",
    "```conda install -c anaconda graphviz```\n",
    "## Classification using Decision Trees\n",
    "\n",
    "Decision Trees are a simple but effective algorithm, used for supervised classification and regression problems.\n",
    "\n",
    "Decision Trees can\n",
    "- Manage a mixture of discrete, continuous and categorical inputs\n",
    "- Use data with no normalization/pre-processing (including missing data)\n",
    "- Produce a highly-interpretable output, which can be easily explained and visualized\n",
    "\n",
    "A decision tree is a collection of simple hierarchical decision rules, classifying datapoints into categories by *splitting* on feature values. The task of *fitting* a decision tree to data, is therefore the task of finding the sequence of feature splits and the optimal split values.\n",
    "\n",
    "Further discussion of decision trees can be found on the [Wikipedia article](https://en.wikipedia.org/wiki/Decision_tree) or [Sci-Kit Learn documentation](http://scikit-learn.org/stable/modules/tree.html)."
   ]
  },
  {
   "cell_type": "markdown",
   "metadata": {},
   "source": [
    "## Breast Cancer Data\n",
    "The Wisconsin Breast Cancer dataset is a set of 569 samples of fine needle aspirate (FNA) of breast mass. Each sample contains features describing characteristics of the cell nuclei , along with a classification of the sample as either benign or malignant."
   ]
  },
  {
   "cell_type": "markdown",
   "metadata": {},
   "source": [
    "### Load data"
   ]
  },
  {
   "cell_type": "code",
   "execution_count": 1,
   "metadata": {
    "collapsed": true
   },
   "outputs": [],
   "source": [
    "/ Utility functions\n",
    "\\l ../utils/funcs.q\n",
    "\\l ../utils/graphics.q"
   ]
  },
  {
   "cell_type": "code",
   "execution_count": 2,
   "metadata": {},
   "outputs": [
    {
     "name": "stdout",
     "output_type": "stream",
     "text": [
      "Shape of feature data is: 569 x 30\n",
      "\n",
      "17.99 10.38 122.8 1001  0.1184  0.2776  0.3001 0.1471  0.2419 0.07871 1.095  ..\n",
      "20.57 17.77 132.9 1326  0.08474 0.07864 0.0869 0.07017 0.1812 0.05667 0.5435 ..\n",
      "19.69 21.25 130   1203  0.1096  0.1599  0.1974 0.1279  0.2069 0.05999 0.7456 ..\n",
      "11.42 20.38 77.58 386.1 0.1425  0.2839  0.2414 0.1052  0.2597 0.09744 0.4956 ..\n",
      "20.29 14.34 135.1 1297  0.1003  0.1328  0.198  0.1043  0.1809 0.05883 0.7572 ..\n",
      "\n",
      "Distribution of target values is:\n",
      "\n",
      "target| num pcnt \n",
      "------| ---------\n",
      "0     | 212 37.26\n",
      "1     | 357 62.74\n"
     ]
    }
   ],
   "source": [
    "data:.p.import[`sklearn.datasets;`:load_breast_cancer][]\n",
    "X:data[`:data]`\n",
    "y:data[`:target]`\n",
    "featnames:getunicode data`:feature_names\n",
    "/ Inspect data\n",
    "-1\"Shape of feature data is: \",sv[\" x \"]string shape X;\n",
    "-1\"\";show 5#X;-1\"\";\n",
    "-1\"Distribution of target values is:\\n\";\n",
    "show update pcnt:round[;.01]100*num%sum num from select num:count i by target from([]target:y);"
   ]
  },
  {
   "cell_type": "markdown",
   "metadata": {},
   "source": [
    "Classes are quite unbalanced\n",
    "- 37% are malignant (0)\n",
    "- 63% are benign (1)"
   ]
  },
  {
   "cell_type": "markdown",
   "metadata": {},
   "source": [
    "### Split data\n",
    "50/50 training/test split"
   ]
  },
  {
   "cell_type": "code",
   "execution_count": 3,
   "metadata": {},
   "outputs": [
    {
     "name": "stdout",
     "output_type": "stream",
     "text": [
      "xtrain| 284\n",
      "ytrain| 284\n",
      "xtest | 285\n",
      "ytest | 285\n"
     ]
    }
   ],
   "source": [
    "\\S 123 / random seed\n",
    "show count each datadict:traintestsplit[X;y;.5]"
   ]
  },
  {
   "cell_type": "markdown",
   "metadata": {},
   "source": [
    "### Fit model"
   ]
  },
  {
   "cell_type": "markdown",
   "metadata": {},
   "source": [
    "We fit a DecisionTreeClassifier model, restricting the tree to a maximum depth of 3."
   ]
  },
  {
   "cell_type": "code",
   "execution_count": 4,
   "metadata": {
    "collapsed": true
   },
   "outputs": [],
   "source": [
    "DecisionTreeClassifier:.p.import[`sklearn.tree]`:DecisionTreeClassifier\n",
    "classifier:DecisionTreeClassifier[`max_depth pykw 3]\n",
    "classifier[`:fit][datadict.xtrain;datadict.ytrain];"
   ]
  },
  {
   "cell_type": "markdown",
   "metadata": {},
   "source": [
    "Using the graph visualization software [Graphviz](https://www.graphviz.org/), we can look at the structure of the resulting decision tree."
   ]
  },
  {
   "cell_type": "code",
   "execution_count": 5,
   "metadata": {},
   "outputs": [
    {
     "data": {
      "image/svg+xml": [
       "<?xml version=\"1.0\" encoding=\"UTF-8\" standalone=\"no\"?>\n",
       "<!DOCTYPE svg PUBLIC \"-//W3C//DTD SVG 1.1//EN\"\n",
       " \"http://www.w3.org/Graphics/SVG/1.1/DTD/svg11.dtd\">\n",
       "<!-- Generated by graphviz version 2.38.0 (20140413.2041)\n",
       " -->\n",
       "<!-- Title: Tree Pages: 1 -->\n",
       "<svg width=\"902pt\" height=\"373pt\"\n",
       " viewBox=\"0.00 0.00 902.00 373.00\" xmlns=\"http://www.w3.org/2000/svg\" xmlns:xlink=\"http://www.w3.org/1999/xlink\">\n",
       "<g id=\"graph0\" class=\"graph\" transform=\"scale(1 1) rotate(0) translate(4 369)\">\n",
       "<title>Tree</title>\n",
       "<polygon fill=\"white\" stroke=\"none\" points=\"-4,4 -4,-369 898,-369 898,4 -4,4\"/>\n",
       "<!-- 0 -->\n",
       "<g id=\"node1\" class=\"node\"><title>0</title>\n",
       "<polygon fill=\"none\" stroke=\"black\" points=\"539,-365 353,-365 353,-297 539,-297 539,-365\"/>\n",
       "<text text-anchor=\"middle\" x=\"446\" y=\"-349.8\" font-family=\"Times,serif\" font-size=\"14.00\">mean concave points &lt;= 0.052</text>\n",
       "<text text-anchor=\"middle\" x=\"446\" y=\"-334.8\" font-family=\"Times,serif\" font-size=\"14.00\">gini = 0.46</text>\n",
       "<text text-anchor=\"middle\" x=\"446\" y=\"-319.8\" font-family=\"Times,serif\" font-size=\"14.00\">samples = 284</text>\n",
       "<text text-anchor=\"middle\" x=\"446\" y=\"-304.8\" font-family=\"Times,serif\" font-size=\"14.00\">value = [102, 182]</text>\n",
       "</g>\n",
       "<!-- 1 -->\n",
       "<g id=\"node2\" class=\"node\"><title>1</title>\n",
       "<polygon fill=\"none\" stroke=\"black\" points=\"430,-261 296,-261 296,-193 430,-193 430,-261\"/>\n",
       "<text text-anchor=\"middle\" x=\"363\" y=\"-245.8\" font-family=\"Times,serif\" font-size=\"14.00\">worst area &lt;= 889.85</text>\n",
       "<text text-anchor=\"middle\" x=\"363\" y=\"-230.8\" font-family=\"Times,serif\" font-size=\"14.00\">gini = 0.076</text>\n",
       "<text text-anchor=\"middle\" x=\"363\" y=\"-215.8\" font-family=\"Times,serif\" font-size=\"14.00\">samples = 176</text>\n",
       "<text text-anchor=\"middle\" x=\"363\" y=\"-200.8\" font-family=\"Times,serif\" font-size=\"14.00\">value = [7, 169]</text>\n",
       "</g>\n",
       "<!-- 0&#45;&gt;1 -->\n",
       "<g id=\"edge1\" class=\"edge\"><title>0&#45;&gt;1</title>\n",
       "<path fill=\"none\" stroke=\"black\" d=\"M419.052,-296.884C411.877,-288.065 404.036,-278.43 396.554,-269.235\"/>\n",
       "<polygon fill=\"black\" stroke=\"black\" points=\"399.123,-266.847 390.097,-261.299 393.693,-271.265 399.123,-266.847\"/>\n",
       "<text text-anchor=\"middle\" x=\"387.542\" y=\"-282.469\" font-family=\"Times,serif\" font-size=\"14.00\">True</text>\n",
       "</g>\n",
       "<!-- 8 -->\n",
       "<g id=\"node9\" class=\"node\"><title>8</title>\n",
       "<polygon fill=\"none\" stroke=\"black\" points=\"593,-261 465,-261 465,-193 593,-193 593,-261\"/>\n",
       "<text text-anchor=\"middle\" x=\"529\" y=\"-245.8\" font-family=\"Times,serif\" font-size=\"14.00\">worst area &lt;= 817.6</text>\n",
       "<text text-anchor=\"middle\" x=\"529\" y=\"-230.8\" font-family=\"Times,serif\" font-size=\"14.00\">gini = 0.212</text>\n",
       "<text text-anchor=\"middle\" x=\"529\" y=\"-215.8\" font-family=\"Times,serif\" font-size=\"14.00\">samples = 108</text>\n",
       "<text text-anchor=\"middle\" x=\"529\" y=\"-200.8\" font-family=\"Times,serif\" font-size=\"14.00\">value = [95, 13]</text>\n",
       "</g>\n",
       "<!-- 0&#45;&gt;8 -->\n",
       "<g id=\"edge8\" class=\"edge\"><title>0&#45;&gt;8</title>\n",
       "<path fill=\"none\" stroke=\"black\" d=\"M472.948,-296.884C480.123,-288.065 487.964,-278.43 495.446,-269.235\"/>\n",
       "<polygon fill=\"black\" stroke=\"black\" points=\"498.307,-271.265 501.903,-261.299 492.877,-266.847 498.307,-271.265\"/>\n",
       "<text text-anchor=\"middle\" x=\"504.458\" y=\"-282.469\" font-family=\"Times,serif\" font-size=\"14.00\">False</text>\n",
       "</g>\n",
       "<!-- 2 -->\n",
       "<g id=\"node3\" class=\"node\"><title>2</title>\n",
       "<polygon fill=\"none\" stroke=\"black\" points=\"241.5,-157 84.5,-157 84.5,-89 241.5,-89 241.5,-157\"/>\n",
       "<text text-anchor=\"middle\" x=\"163\" y=\"-141.8\" font-family=\"Times,serif\" font-size=\"14.00\">symmetry error &lt;= 0.009</text>\n",
       "<text text-anchor=\"middle\" x=\"163\" y=\"-126.8\" font-family=\"Times,serif\" font-size=\"14.00\">gini = 0.024</text>\n",
       "<text text-anchor=\"middle\" x=\"163\" y=\"-111.8\" font-family=\"Times,serif\" font-size=\"14.00\">samples = 167</text>\n",
       "<text text-anchor=\"middle\" x=\"163\" y=\"-96.8\" font-family=\"Times,serif\" font-size=\"14.00\">value = [2, 165]</text>\n",
       "</g>\n",
       "<!-- 1&#45;&gt;2 -->\n",
       "<g id=\"edge2\" class=\"edge\"><title>1&#45;&gt;2</title>\n",
       "<path fill=\"none\" stroke=\"black\" d=\"M298.066,-192.884C278.58,-182.946 257.061,-171.971 237.034,-161.757\"/>\n",
       "<polygon fill=\"black\" stroke=\"black\" points=\"238.449,-158.55 227.95,-157.125 235.269,-164.786 238.449,-158.55\"/>\n",
       "</g>\n",
       "<!-- 5 -->\n",
       "<g id=\"node6\" class=\"node\"><title>5</title>\n",
       "<polygon fill=\"none\" stroke=\"black\" points=\"434.5,-157 291.5,-157 291.5,-89 434.5,-89 434.5,-157\"/>\n",
       "<text text-anchor=\"middle\" x=\"363\" y=\"-141.8\" font-family=\"Times,serif\" font-size=\"14.00\">mean texture &lt;= 19.83</text>\n",
       "<text text-anchor=\"middle\" x=\"363\" y=\"-126.8\" font-family=\"Times,serif\" font-size=\"14.00\">gini = 0.494</text>\n",
       "<text text-anchor=\"middle\" x=\"363\" y=\"-111.8\" font-family=\"Times,serif\" font-size=\"14.00\">samples = 9</text>\n",
       "<text text-anchor=\"middle\" x=\"363\" y=\"-96.8\" font-family=\"Times,serif\" font-size=\"14.00\">value = [5, 4]</text>\n",
       "</g>\n",
       "<!-- 1&#45;&gt;5 -->\n",
       "<g id=\"edge5\" class=\"edge\"><title>1&#45;&gt;5</title>\n",
       "<path fill=\"none\" stroke=\"black\" d=\"M363,-192.884C363,-184.778 363,-175.982 363,-167.472\"/>\n",
       "<polygon fill=\"black\" stroke=\"black\" points=\"366.5,-167.299 363,-157.299 359.5,-167.299 366.5,-167.299\"/>\n",
       "</g>\n",
       "<!-- 3 -->\n",
       "<g id=\"node4\" class=\"node\"><title>3</title>\n",
       "<polygon fill=\"none\" stroke=\"black\" points=\"92,-53 0,-53 0,-0 92,-0 92,-53\"/>\n",
       "<text text-anchor=\"middle\" x=\"46\" y=\"-37.8\" font-family=\"Times,serif\" font-size=\"14.00\">gini = 0.0</text>\n",
       "<text text-anchor=\"middle\" x=\"46\" y=\"-22.8\" font-family=\"Times,serif\" font-size=\"14.00\">samples = 1</text>\n",
       "<text text-anchor=\"middle\" x=\"46\" y=\"-7.8\" font-family=\"Times,serif\" font-size=\"14.00\">value = [1, 0]</text>\n",
       "</g>\n",
       "<!-- 2&#45;&gt;3 -->\n",
       "<g id=\"edge3\" class=\"edge\"><title>2&#45;&gt;3</title>\n",
       "<path fill=\"none\" stroke=\"black\" d=\"M122.079,-88.9485C110.3,-79.4346 97.4725,-69.074 85.7646,-59.6175\"/>\n",
       "<polygon fill=\"black\" stroke=\"black\" points=\"87.8431,-56.7973 77.8645,-53.2367 83.4447,-62.2429 87.8431,-56.7973\"/>\n",
       "</g>\n",
       "<!-- 4 -->\n",
       "<g id=\"node5\" class=\"node\"><title>4</title>\n",
       "<polygon fill=\"none\" stroke=\"black\" points=\"215.5,-53 110.5,-53 110.5,-0 215.5,-0 215.5,-53\"/>\n",
       "<text text-anchor=\"middle\" x=\"163\" y=\"-37.8\" font-family=\"Times,serif\" font-size=\"14.00\">gini = 0.012</text>\n",
       "<text text-anchor=\"middle\" x=\"163\" y=\"-22.8\" font-family=\"Times,serif\" font-size=\"14.00\">samples = 166</text>\n",
       "<text text-anchor=\"middle\" x=\"163\" y=\"-7.8\" font-family=\"Times,serif\" font-size=\"14.00\">value = [1, 165]</text>\n",
       "</g>\n",
       "<!-- 2&#45;&gt;4 -->\n",
       "<g id=\"edge4\" class=\"edge\"><title>2&#45;&gt;4</title>\n",
       "<path fill=\"none\" stroke=\"black\" d=\"M163,-88.9485C163,-80.7153 163,-71.848 163,-63.4814\"/>\n",
       "<polygon fill=\"black\" stroke=\"black\" points=\"166.5,-63.2367 163,-53.2367 159.5,-63.2367 166.5,-63.2367\"/>\n",
       "</g>\n",
       "<!-- 6 -->\n",
       "<g id=\"node7\" class=\"node\"><title>6</title>\n",
       "<polygon fill=\"none\" stroke=\"black\" points=\"326,-53 234,-53 234,-0 326,-0 326,-53\"/>\n",
       "<text text-anchor=\"middle\" x=\"280\" y=\"-37.8\" font-family=\"Times,serif\" font-size=\"14.00\">gini = 0.0</text>\n",
       "<text text-anchor=\"middle\" x=\"280\" y=\"-22.8\" font-family=\"Times,serif\" font-size=\"14.00\">samples = 4</text>\n",
       "<text text-anchor=\"middle\" x=\"280\" y=\"-7.8\" font-family=\"Times,serif\" font-size=\"14.00\">value = [0, 4]</text>\n",
       "</g>\n",
       "<!-- 5&#45;&gt;6 -->\n",
       "<g id=\"edge6\" class=\"edge\"><title>5&#45;&gt;6</title>\n",
       "<path fill=\"none\" stroke=\"black\" d=\"M333.971,-88.9485C326.016,-79.892 317.388,-70.0682 309.412,-60.9875\"/>\n",
       "<polygon fill=\"black\" stroke=\"black\" points=\"311.834,-58.4405 302.605,-53.2367 306.574,-63.0599 311.834,-58.4405\"/>\n",
       "</g>\n",
       "<!-- 7 -->\n",
       "<g id=\"node8\" class=\"node\"><title>7</title>\n",
       "<polygon fill=\"none\" stroke=\"black\" points=\"436,-53 344,-53 344,-0 436,-0 436,-53\"/>\n",
       "<text text-anchor=\"middle\" x=\"390\" y=\"-37.8\" font-family=\"Times,serif\" font-size=\"14.00\">gini = 0.0</text>\n",
       "<text text-anchor=\"middle\" x=\"390\" y=\"-22.8\" font-family=\"Times,serif\" font-size=\"14.00\">samples = 5</text>\n",
       "<text text-anchor=\"middle\" x=\"390\" y=\"-7.8\" font-family=\"Times,serif\" font-size=\"14.00\">value = [5, 0]</text>\n",
       "</g>\n",
       "<!-- 5&#45;&gt;7 -->\n",
       "<g id=\"edge7\" class=\"edge\"><title>5&#45;&gt;7</title>\n",
       "<path fill=\"none\" stroke=\"black\" d=\"M372.443,-88.9485C374.848,-80.5323 377.442,-71.4536 379.879,-62.9243\"/>\n",
       "<polygon fill=\"black\" stroke=\"black\" points=\"383.265,-63.8135 382.647,-53.2367 376.534,-61.8904 383.265,-63.8135\"/>\n",
       "</g>\n",
       "<!-- 9 -->\n",
       "<g id=\"node10\" class=\"node\"><title>9</title>\n",
       "<polygon fill=\"none\" stroke=\"black\" points=\"600.5,-157 457.5,-157 457.5,-89 600.5,-89 600.5,-157\"/>\n",
       "<text text-anchor=\"middle\" x=\"529\" y=\"-141.8\" font-family=\"Times,serif\" font-size=\"14.00\">worst texture &lt;= 25.89</text>\n",
       "<text text-anchor=\"middle\" x=\"529\" y=\"-126.8\" font-family=\"Times,serif\" font-size=\"14.00\">gini = 0.499</text>\n",
       "<text text-anchor=\"middle\" x=\"529\" y=\"-111.8\" font-family=\"Times,serif\" font-size=\"14.00\">samples = 21</text>\n",
       "<text text-anchor=\"middle\" x=\"529\" y=\"-96.8\" font-family=\"Times,serif\" font-size=\"14.00\">value = [10, 11]</text>\n",
       "</g>\n",
       "<!-- 8&#45;&gt;9 -->\n",
       "<g id=\"edge9\" class=\"edge\"><title>8&#45;&gt;9</title>\n",
       "<path fill=\"none\" stroke=\"black\" d=\"M529,-192.884C529,-184.778 529,-175.982 529,-167.472\"/>\n",
       "<polygon fill=\"black\" stroke=\"black\" points=\"532.5,-167.299 529,-157.299 525.5,-167.299 532.5,-167.299\"/>\n",
       "</g>\n",
       "<!-- 12 -->\n",
       "<g id=\"node13\" class=\"node\"><title>12</title>\n",
       "<polygon fill=\"none\" stroke=\"black\" points=\"806.5,-157 657.5,-157 657.5,-89 806.5,-89 806.5,-157\"/>\n",
       "<text text-anchor=\"middle\" x=\"732\" y=\"-141.8\" font-family=\"Times,serif\" font-size=\"14.00\">mean texture &lt;= 14.095</text>\n",
       "<text text-anchor=\"middle\" x=\"732\" y=\"-126.8\" font-family=\"Times,serif\" font-size=\"14.00\">gini = 0.045</text>\n",
       "<text text-anchor=\"middle\" x=\"732\" y=\"-111.8\" font-family=\"Times,serif\" font-size=\"14.00\">samples = 87</text>\n",
       "<text text-anchor=\"middle\" x=\"732\" y=\"-96.8\" font-family=\"Times,serif\" font-size=\"14.00\">value = [85, 2]</text>\n",
       "</g>\n",
       "<!-- 8&#45;&gt;12 -->\n",
       "<g id=\"edge12\" class=\"edge\"><title>8&#45;&gt;12</title>\n",
       "<path fill=\"none\" stroke=\"black\" d=\"M593.23,-193.727C613.467,-183.558 635.999,-172.237 656.922,-161.724\"/>\n",
       "<polygon fill=\"black\" stroke=\"black\" points=\"658.728,-164.734 666.092,-157.116 655.585,-158.479 658.728,-164.734\"/>\n",
       "</g>\n",
       "<!-- 10 -->\n",
       "<g id=\"node11\" class=\"node\"><title>10</title>\n",
       "<polygon fill=\"none\" stroke=\"black\" points=\"552,-53 454,-53 454,-0 552,-0 552,-53\"/>\n",
       "<text text-anchor=\"middle\" x=\"503\" y=\"-37.8\" font-family=\"Times,serif\" font-size=\"14.00\">gini = 0.0</text>\n",
       "<text text-anchor=\"middle\" x=\"503\" y=\"-22.8\" font-family=\"Times,serif\" font-size=\"14.00\">samples = 10</text>\n",
       "<text text-anchor=\"middle\" x=\"503\" y=\"-7.8\" font-family=\"Times,serif\" font-size=\"14.00\">value = [0, 10]</text>\n",
       "</g>\n",
       "<!-- 9&#45;&gt;10 -->\n",
       "<g id=\"edge10\" class=\"edge\"><title>9&#45;&gt;10</title>\n",
       "<path fill=\"none\" stroke=\"black\" d=\"M519.906,-88.9485C517.591,-80.5323 515.093,-71.4536 512.746,-62.9243\"/>\n",
       "<polygon fill=\"black\" stroke=\"black\" points=\"516.108,-61.9499 510.081,-53.2367 509.359,-63.8069 516.108,-61.9499\"/>\n",
       "</g>\n",
       "<!-- 11 -->\n",
       "<g id=\"node12\" class=\"node\"><title>11</title>\n",
       "<polygon fill=\"none\" stroke=\"black\" points=\"668,-53 570,-53 570,-0 668,-0 668,-53\"/>\n",
       "<text text-anchor=\"middle\" x=\"619\" y=\"-37.8\" font-family=\"Times,serif\" font-size=\"14.00\">gini = 0.165</text>\n",
       "<text text-anchor=\"middle\" x=\"619\" y=\"-22.8\" font-family=\"Times,serif\" font-size=\"14.00\">samples = 11</text>\n",
       "<text text-anchor=\"middle\" x=\"619\" y=\"-7.8\" font-family=\"Times,serif\" font-size=\"14.00\">value = [10, 1]</text>\n",
       "</g>\n",
       "<!-- 9&#45;&gt;11 -->\n",
       "<g id=\"edge11\" class=\"edge\"><title>9&#45;&gt;11</title>\n",
       "<path fill=\"none\" stroke=\"black\" d=\"M560.478,-88.9485C569.19,-79.8005 578.648,-69.8697 587.369,-60.7126\"/>\n",
       "<polygon fill=\"black\" stroke=\"black\" points=\"590.127,-62.8919 594.489,-53.2367 585.058,-58.0643 590.127,-62.8919\"/>\n",
       "</g>\n",
       "<!-- 13 -->\n",
       "<g id=\"node14\" class=\"node\"><title>13</title>\n",
       "<polygon fill=\"none\" stroke=\"black\" points=\"778,-53 686,-53 686,-0 778,-0 778,-53\"/>\n",
       "<text text-anchor=\"middle\" x=\"732\" y=\"-37.8\" font-family=\"Times,serif\" font-size=\"14.00\">gini = 0.444</text>\n",
       "<text text-anchor=\"middle\" x=\"732\" y=\"-22.8\" font-family=\"Times,serif\" font-size=\"14.00\">samples = 3</text>\n",
       "<text text-anchor=\"middle\" x=\"732\" y=\"-7.8\" font-family=\"Times,serif\" font-size=\"14.00\">value = [1, 2]</text>\n",
       "</g>\n",
       "<!-- 12&#45;&gt;13 -->\n",
       "<g id=\"edge13\" class=\"edge\"><title>12&#45;&gt;13</title>\n",
       "<path fill=\"none\" stroke=\"black\" d=\"M732,-88.9485C732,-80.7153 732,-71.848 732,-63.4814\"/>\n",
       "<polygon fill=\"black\" stroke=\"black\" points=\"735.5,-63.2367 732,-53.2367 728.5,-63.2367 735.5,-63.2367\"/>\n",
       "</g>\n",
       "<!-- 14 -->\n",
       "<g id=\"node15\" class=\"node\"><title>14</title>\n",
       "<polygon fill=\"none\" stroke=\"black\" points=\"894,-53 796,-53 796,-0 894,-0 894,-53\"/>\n",
       "<text text-anchor=\"middle\" x=\"845\" y=\"-37.8\" font-family=\"Times,serif\" font-size=\"14.00\">gini = 0.0</text>\n",
       "<text text-anchor=\"middle\" x=\"845\" y=\"-22.8\" font-family=\"Times,serif\" font-size=\"14.00\">samples = 84</text>\n",
       "<text text-anchor=\"middle\" x=\"845\" y=\"-7.8\" font-family=\"Times,serif\" font-size=\"14.00\">value = [84, 0]</text>\n",
       "</g>\n",
       "<!-- 12&#45;&gt;14 -->\n",
       "<g id=\"edge14\" class=\"edge\"><title>12&#45;&gt;14</title>\n",
       "<path fill=\"none\" stroke=\"black\" d=\"M771.522,-88.9485C782.789,-79.526 795.049,-69.2731 806.268,-59.8906\"/>\n",
       "<polygon fill=\"black\" stroke=\"black\" points=\"808.799,-62.3368 814.225,-53.2367 804.308,-56.967 808.799,-62.3368\"/>\n",
       "</g>\n",
       "</g>\n",
       "</svg>\n"
      ],
      "text/plain": [
       "<graphviz.files.Source at 0x7f84c38d7710>"
      ]
     },
     "metadata": {},
     "output_type": "display_data"
    }
   ],
   "source": [
    "graphviz:.p.import`graphviz\n",
    "exportgraphviz:.p.import[`sklearn.tree;`:export_graphviz]\n",
    "dotdata:exportgraphviz[classifier;`out_file pykw (::);`feature_names pykw featnames]\n",
    "graph:graphviz[`:Source]dotdata\n",
    "display graph"
   ]
  },
  {
   "cell_type": "markdown",
   "metadata": {},
   "source": [
    "The decision tree classifier produces a highly interpretable model which can be visualized and understood even by non-technical people.\n",
    "\n",
    "The algorithm finds the best tree by following a *greedy* strategy.  \n",
    "It first finds the feature (mean concave points) and split value (0.052) that most effectively partitions the data.  \n",
    "\n",
    "This divides the dataset of 284 samples into two subsets of 176 samples and 108 samples.\n",
    "- Of the 176 samples, 7 (4%) are malignant and 169 (96%) are benign.\n",
    "- Of the 108 samples, 95 (88%) are malignant and 13 (12%) are benign.\n",
    "\n",
    "So even one split value can provide a very powerful and predictive split between the classification labels.\n",
    "\n",
    "The algorithm continues splitting the dataset at each node, by finding the feature and split value that most effectively partitions the benign from the malignant samples."
   ]
  },
  {
   "cell_type": "markdown",
   "metadata": {},
   "source": [
    "### Evaluate model"
   ]
  },
  {
   "cell_type": "markdown",
   "metadata": {},
   "source": [
    "The output of the decision tree is a class assignment.\n",
    "\n",
    "We take a previously unseen sample and pass it through the decision tree. Following the appropriate branch at each split (based on the feature values of the test point), we eventually end up at a *leaf node*, at the bottom of the tree. At this point, we assign the test point the class value of the majority of the test examples included in that leaf.\n",
    "\n",
    "We can therefore evaluate the performance of the decision tree, on the held-out test data. "
   ]
  },
  {
   "cell_type": "code",
   "execution_count": 6,
   "metadata": {},
   "outputs": [
    {
     "name": "stdout",
     "output_type": "stream",
     "text": [
      "Performance of the classifier\n",
      "log loss: 0.9664692, accuracy: 0.9508772\n"
     ]
    }
   ],
   "source": [
    "yprob:classifier[`:predict_proba;<]datadict.xtest\n",
    "ypred:raze {$[2=count x;1?;]x}each{x?max x}each yprob /#TODO ?\n",
    "dtloss:logloss[datadict.ytest;yprob]\n",
    "dtacc:accuracy[datadict.ytest;ypred]\n",
    "\n",
    "-1\"Performance of the classifier\";\n",
    "-1\"log loss: \",(string dtloss),\", accuracy: \",string dtacc;"
   ]
  },
  {
   "cell_type": "markdown",
   "metadata": {},
   "source": [
    "The decision tree classifier achieves 95% accuracy on the test set, a strong performance from such a simple classifier."
   ]
  },
  {
   "cell_type": "markdown",
   "metadata": {},
   "source": [
    "### Confusion matrix\n",
    "\n",
    "\n",
    "With a Confusion Matrix, we can inspect the interaction between\n",
    "- True positives\n",
    "- True negatives\n",
    "- False positives\n",
    "- False negatives"
   ]
  },
  {
   "cell_type": "code",
   "execution_count": 7,
   "metadata": {
    "scrolled": false
   },
   "outputs": [
    {
     "name": "stdout",
     "output_type": "stream",
     "text": [
      "0| 98 2  \n",
      "1| 12 173\n"
     ]
    },
    {
     "data": {
      "image/png": "[encoded data removed]",
      "text/plain": [
       "<Figure size 720x720 with 1 Axes>"
      ]
     },
     "metadata": {},
     "output_type": "display_data"
    }
   ],
   "source": [
    "show cnfM:cfm[datadict.ytest;ypred]\n",
    "displayCM[value cnfM;`malignant`benign;\"Test Set Confusion Matrix\";()]"
   ]
  },
  {
   "cell_type": "markdown",
   "metadata": {},
   "source": [
    "The classifier has\n",
    "\n",
    "```True Positive Rate  TPR = TP/(TP+FN) = 99/(99+3)   = 98%\n",
    "False Positive Rate FPR = FP/(FP+TN) = 11/(11+172) =  6%```\n",
    "\n",
    "n.b. We are using _positive_ here to denote the malignant case, which actually has the label 0, rather than 1, in the Wisconsin dataset."
   ]
  },
  {
   "cell_type": "markdown",
   "metadata": {},
   "source": [
    "### ROC curve\n",
    "Rather than using a _majority vote_ system, we could use a threshold other than 50% for assigning the points to classes at the leaf node.  \n",
    "- By modifying the threshold in favour of a _malignant_ diagnosis, we would increase the true positive rate, but would also increase the false positive rate.  \n",
    "- By modifying the threshold in favour of a _benign_ diagnosis, we would decrease the false positive rate, but would also decrease the true positive rate.  \n",
    "\n",
    "The realtionship between the true positive rate (sensitivity) and the false positive rate, is captured in the Receiver Operating Characteristic (ROC) curve.\n",
    "\n",
    "n.b. 1 - FPR is called the _specificity_ of the model. We therefore have a trade-off between _sensitivity_ and _specificity_.\n",
    "\n",
    "The area under the curve (AUC) is interpreted as the probability that a classifier will rank a randomly chosen _positive_ instance higher than a randomly chosen _negative_ one.\n",
    "\n",
    "The optimal classifier would have a false positive rate of 0 and a true positive rate of 1, giving a an AUC curve of 1."
   ]
  },
  {
   "cell_type": "code",
   "execution_count": 8,
   "metadata": {},
   "outputs": [
    {
     "data": {
      "image/png": "[encoded data removed]",
      "text/plain": [
       "<Figure size 460.8x345.6 with 1 Axes>"
      ]
     },
     "metadata": {},
     "output_type": "display_data"
    }
   ],
   "source": [
    "yprob:classifier[`:predict_proba;<;X]\n",
    "displayROCcurve[y;yprob[;1]]"
   ]
  },
  {
   "cell_type": "markdown",
   "metadata": {},
   "source": [
    " With an AUC of 0.96, our classifier is close to optimal."
   ]
  }
 ],
 "metadata": {
  "kernelspec": {
   "display_name": "Q 3.5",
   "language": "q",
   "name": "qpk"
  },
  "language_info": {
   "file_extension": ".q",
   "mimetype": "text/x-q",
   "name": "q",
   "version": "3.5.0"
  }
 },
 "nbformat": 4,
 "nbformat_minor": 2
}
