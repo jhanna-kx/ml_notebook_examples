{
 "cells": [
  {
   "cell_type": "markdown",
   "metadata": {},
   "source": [
    "# Machine Learning Demonstrations - 3\n",
    "\n",
    "To run this notebooks, you need to install python dependencies:\n",
    "\n",
    "With pip:\n",
    "\n",
    "```pip install numpy==1.14.0\n",
    "pip install matplotlib==2.0.2\n",
    "pip install scikit_learn==0.19.1```\n",
    "\n",
    "## Classification using k-Nearest Neighbors\n",
    "\n",
    "The k-Nearest Neighbors (k-NN) algorithm is a simple but effective algorithm, used for supervised classification and regression problems.\n",
    "\n",
    "For a given test point, k-Nearest-Neighbours finds the **k** datapoints in the training set that are *closest* to that point in the feature space.  \n",
    "The prediciton is the average (for regression) or modal (for classification) value of the neighbors.\n",
    "\n",
    "k-Nearest Neighbours is considered a non-parametric model, as it does not strictly *train* on the data. Instead, it retains the entire training dataset, to predict new test points.\n",
    "\n",
    "n.b. Although k-NN is considered non-parametric, the number of neighbors considered (k) is an important _hyperparameter_ to the model.\n",
    "\n",
    "Further discussion of k-NN can be found on the [Wikipedia article](https://en.wikipedia.org/wiki/K-nearest_neighbors_algorithm) or [Sci-Kit Learn documentation](http://scikit-learn.org/stable/modules/neighbors.html)."
   ]
  },
  {
   "cell_type": "markdown",
   "metadata": {},
   "source": [
    "## Breast Cancer Data\n",
    "The Wisconsin Breast Cancer dataset is a set of 569 samples of fine needle aspirate (FNA) of breast mass. Each sample contains features describing characteristics of the cell nuclei , along with a classification of the sample as either benign or malignant."
   ]
  },
  {
   "cell_type": "markdown",
   "metadata": {},
   "source": [
    "### Load data"
   ]
  },
  {
   "cell_type": "code",
   "execution_count": 1,
   "metadata": {
    "collapsed": true
   },
   "outputs": [],
   "source": [
    "/ Utility functions\n",
    "\\l ../utils/funcs.q\n",
    "\\l ../utils/graphics.q"
   ]
  },
  {
   "cell_type": "code",
   "execution_count": 2,
   "metadata": {},
   "outputs": [
    {
     "name": "stdout",
     "output_type": "stream",
     "text": [
      "\n",
      "Shape of features is 569 x 30\n",
      "\n",
      "17.99 10.38 122.8 1001  0.1184  0.2776  0.3001 0.1471  0.2419 0.07871 1.095  ..\n",
      "20.57 17.77 132.9 1326  0.08474 0.07864 0.0869 0.07017 0.1812 0.05667 0.5435 ..\n",
      "19.69 21.25 130   1203  0.1096  0.1599  0.1974 0.1279  0.2069 0.05999 0.7456 ..\n",
      "11.42 20.38 77.58 386.1 0.1425  0.2839  0.2414 0.1052  0.2597 0.09744 0.4956 ..\n",
      "20.29 14.34 135.1 1297  0.1003  0.1328  0.198  0.1043  0.1809 0.05883 0.7572 ..\n",
      "\n",
      "Missing feature values: - 0\n",
      "Missing target values:  - 0\n",
      "\n",
      "Distribution of target values is:\n",
      "\n",
      "target| num pcnt \n",
      "------| ---------\n",
      "0     | 212 37.26\n",
      "1     | 357 62.74\n"
     ]
    }
   ],
   "source": [
    "data:.p.import[`sklearn.datasets;`:load_breast_cancer][]\n",
    "features:data[`:data]`\n",
    "target:data[`:target]`\n",
    "targetnames:getunicode data`:target_names\n",
    "featurenames:getunicode data`:feature_names\n",
    "/ Inspect data\n",
    "-1\"\\nShape of features is \",sv[\" x \"]string shape features;\n",
    "-1\"\";show 5#features;-1\"\";\n",
    "-1\"Missing feature values: - \",string sum where null raze features;\n",
    "-1\"Missing target values:  - \",string sum where null raze target;\n",
    "-1\"\\nDistribution of target values is:\\n\";\n",
    "show update pcnt:round[;.01]100*num%sum num from select num:count i by target from([]target);"
   ]
  },
  {
   "cell_type": "markdown",
   "metadata": {},
   "source": [
    "Classes are quite unbalanced\n",
    "- 37% are malignant (0)\n",
    "- 63% are benign (1)\n",
    "A predictor that naively predicted _bengin_ (1) would therefore achieve nearly 63% accuracy on this dataset. However, such a model would not be of much use in classifying cells."
   ]
  },
  {
   "cell_type": "markdown",
   "metadata": {},
   "source": [
    "### Feature scaling "
   ]
  },
  {
   "cell_type": "markdown",
   "metadata": {},
   "source": [
    "k-Nearest Neighbours needs to calculate the *distance* between points in the feature space, in order to identify the k *nearest* points. The features must therefore be standardized, so that all are on the same scale. Otherwise, the feature with the most magnified scale will get the highest weighting in terms of prediction.\n",
    "\n",
    "We can inspect the range of each of the 30 features for the dataset."
   ]
  },
  {
   "cell_type": "code",
   "execution_count": 3,
   "metadata": {},
   "outputs": [
    {
     "data": {
      "image/png": "[encoded data removed]",
      "text/plain": [
       "<Figure size 460.8x345.6 with 1 Axes>"
      ]
     },
     "metadata": {},
     "output_type": "display_data"
    }
   ],
   "source": [
    "colranges:range features\n",
    "ypos:til count features 0\n",
    "/ Display using matplotlib\n",
    "plt:.p.import`matplotlib.pyplot\n",
    "plt[`:bar][ypos;colranges;`align pykw\"center\";`alpha pykw 0.5];\n",
    "plt[`:ylabel]\"Range\";\n",
    "plt[`:title]\"Ranges of Features\";\n",
    "plt[`:show][];"
   ]
  },
  {
   "cell_type": "markdown",
   "metadata": {},
   "source": [
    "The features have significantly different ranges, so standardization will be required.  \n",
    "We scale each of the features independently into a range 0-1"
   ]
  },
  {
   "cell_type": "code",
   "execution_count": 4,
   "metadata": {},
   "outputs": [
    {
     "data": {
      "image/png": "[encoded data removed]",
      "text/plain": [
       "<Figure size 460.8x345.6 with 1 Axes>"
      ]
     },
     "metadata": {},
     "output_type": "display_data"
    }
   ],
   "source": [
    "featuresscaled:minmaxscaler features; \n",
    "newcolranges:range featuresscaled\n",
    "/ Display using matplotlib\n",
    "plt[`:bar][ypos;newcolranges;`align pykw \"center\"; `alpha pykw 0.5];\n",
    "plt[`:xticks]();\n",
    "plt[`:ylabel]\"Range\";\n",
    "plt[`:title]\"New ranges of Features\";\n",
    "plt[`:show][];"
   ]
  },
  {
   "cell_type": "markdown",
   "metadata": {},
   "source": [
    "A k-Nearest-Neighbours classifier predicts the class of test examples by finding (for **each** test point) the k datapoints in the training set that are \"closest\" to the test point in the feature space.\n",
    "\n",
    "As such, the k-Nearest-Neighbour classifier does not strictly **train** on the data, it instead essentially retains all of it and uses the entire dataset to predict the classification of new test points. Implementations, including the one in sklearn may build tree structures based on the training set to optimize later querying of the nearest neighbors from a test set. \n",
    "\n",
    "The number of nearest neighbours (k) we choose to compare any new test-point to is an important hyperparameter in the k-Nearest-Neighbours classifiers.\n",
    "\n",
    "We will split the data into training and test sets and evaluate the classifier's accuracy across a range of values for k."
   ]
  },
  {
   "cell_type": "markdown",
   "metadata": {},
   "source": [
    "### Split data\n",
    "50/50 training/test split"
   ]
  },
  {
   "cell_type": "code",
   "execution_count": 5,
   "metadata": {},
   "outputs": [
    {
     "name": "stdout",
     "output_type": "stream",
     "text": [
      "xtrain| 284\n",
      "ytrain| 284\n",
      "xtest | 285\n",
      "ytest | 285\n"
     ]
    }
   ],
   "source": [
    "\\S 123 / random seed\n",
    "show count each datadict:traintestsplit[features;target;.5]"
   ]
  },
  {
   "cell_type": "markdown",
   "metadata": {},
   "source": [
    "### Fit and evaluate model"
   ]
  },
  {
   "cell_type": "code",
   "execution_count": 6,
   "metadata": {},
   "outputs": [
    {
     "data": {
      "image/png": "[encoded data removed]",
      "text/plain": [
       "<Figure size 1080x720 with 1 Axes>"
      ]
     },
     "metadata": {},
     "output_type": "display_data"
    }
   ],
   "source": [
    "KNClassifier:.p.import[`sklearn.neighbors]`:KNeighborsClassifier\n",
    "// Function to fit, predict and compute accuracy (for a given k)\n",
    "checkaccuracy:{[k] \n",
    " classifier:KNClassifier[`n_neighbors pykw k;`metric pykw \"minkowski\"]; \n",
    " classifier[`:fit]. datadict`xtrain`ytrain; \n",
    " pred:classifier[`:predict;datadict.xtest]`; \n",
    " / use accuracy function from Func.q\n",
    " accuracy[datadict.ytest;pred]\n",
    " } \n",
    "/ Evaluate k = 1-200\n",
    "maxk:200\n",
    "accuracies:checkaccuracy each ypos:1+til maxk\n",
    "/ Display using matplotlib\n",
    "plot:.p.wrap each `fig`ax!plt[`:subplots][]`;\n",
    "plot.fig[`:set_figheight]10;\n",
    "plot.fig[`:set_figwidth]15;\n",
    "plot.ax[`:plot][ypos;accuracies];\n",
    "plt[`:xlabel]\"No. neighbours(k)\";\n",
    "plt[`:ylabel]\"Accuracy\";\n",
    "plt[`:title]\"Accuracy vs. k Neighbors\";\n",
    "plt[`:show][];"
   ]
  },
  {
   "cell_type": "markdown",
   "metadata": {},
   "source": [
    "For k<11, accuracy improves as k increases, indicating that the model overfits the data for very low values of k, this is, it memorizes the training data and gets almost perfect predictions for the training data but it does not generalize well to unseen data. Taking more neighbors into account to get the prediction will better generalize the data and will improve the accuracy on the test data.\n",
    "\n",
    "For k>11, accuracy worsens as k increases. Beyond this point, the model suffers for underfitting the training data, this is, it oversimplifies the distribution of the data and it could miss some important details of the distribution. Adding more degrees-of-freedom will only make matters worse.\n",
    "\n",
    "The optimal choice of k therefore appears to be 11.\n",
    "\n",
    "This is an example of hyperparameter *tuning*, used to evaluate the best value of a hyperparameter. More complicated strategies (such as k-fold cross-validation) use different splits of training and validation data, increasing the overall data available for training."
   ]
  },
  {
   "cell_type": "markdown",
   "metadata": {},
   "source": [
    "The k-NN classifier (with k=11) obtains 93% accuracy on the test dataset. This shows significant predictive power over the baseline strategy of always predicting the most popular class (63% accuracy)."
   ]
  }
 ],
 "metadata": {
  "kernelspec": {
   "display_name": "Q 3.5",
   "language": "q",
   "name": "qpk"
  },
  "language_info": {
   "file_extension": ".q",
   "mimetype": "text/x-q",
   "name": "q",
   "version": "3.5.0"
  }
 },
 "nbformat": 4,
 "nbformat_minor": 2
}
